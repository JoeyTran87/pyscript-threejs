{
 "cells": [
  {
   "cell_type": "markdown",
   "id": "f6970cf9",
   "metadata": {},
   "source": [
    "# pyscript with threejs"
   ]
  },
  {
   "cell_type": "markdown",
   "id": "19c2181e",
   "metadata": {},
   "source": [
    "My first 3D programm with pyscript (https://pyscript.net)"
   ]
  },
  {
   "cell_type": "markdown",
   "id": "331290fa",
   "metadata": {},
   "source": [
    "## cube"
   ]
  },
  {
   "cell_type": "markdown",
   "id": "d2c3fc1d",
   "metadata": {},
   "source": [
    "<img src=\"img/cube.png\" width=\"256\" align=\"left\"><br><br><br><br><br><br><br><br>"
   ]
  },
  {
   "cell_type": "markdown",
   "id": "168085be",
   "metadata": {},
   "source": [
    "## globe"
   ]
  },
  {
   "cell_type": "markdown",
   "id": "1f658afa",
   "metadata": {},
   "source": [
    "Interactive globe with mouse"
   ]
  },
  {
   "cell_type": "markdown",
   "id": "eac1a817",
   "metadata": {},
   "source": [
    "<img src=\"img/globe.gif\" width=\"256\" align=\"left\"><br><br><br><br><br><br><br><br>"
   ]
  },
  {
   "cell_type": "code",
   "execution_count": null,
   "id": "d26ab2a6",
   "metadata": {},
   "outputs": [],
   "source": []
  }
 ],
 "metadata": {
  "kernelspec": {
   "display_name": "Rust",
   "language": "rust",
   "name": "rust"
  },
  "language_info": {
   "codemirror_mode": "rust",
   "file_extension": ".rs",
   "mimetype": "text/rust",
   "name": "Rust",
   "pygment_lexer": "rust",
   "version": ""
  }
 },
 "nbformat": 4,
 "nbformat_minor": 5
}
