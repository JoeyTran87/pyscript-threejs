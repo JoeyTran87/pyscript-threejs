{
 "cells": [
  {
   "cell_type": "markdown",
   "id": "f6970cf9",
   "metadata": {},
   "source": [
    "# pyscript with threejs"
   ]
  },
  {
   "cell_type": "markdown",
   "id": "19c2181e",
   "metadata": {},
   "source": [
    "My first 3D programm with pyscript (https://pyscript.net)"
   ]
  },
  {
   "cell_type": "markdown",
   "id": "9d0ccac2-304d-4227-8e4a-6fb8502ac76a",
   "metadata": {},
   "source": [
    "## basic"
   ]
  },
  {
   "cell_type": "markdown",
   "id": "c5c50563-b9fd-4b6e-8188-4a86335091d2",
   "metadata": {},
   "source": [
    "A basic application with skybox\n",
    "\n",
    "I learned many things about threejs from **SimoneDev**.\n",
    "\n",
    "This is a port from his youtube tutorial  **Create JavaScript 3D World in 5 Minutes (or less)** https://www.youtube.com/watch?v=PPwR7h5SnOE \n",
    "\n",
    "Have a look.\n",
    "\n",
    "Many things about styles from https://discoverthreejs.com\n",
    "\n",
    "Thanks for the textures to https://opengameart.org/content/space-nebulas-skybox"
   ]
  },
  {
   "cell_type": "markdown",
   "id": "44ad0fee-b61e-48a7-852a-d90ac392fd11",
   "metadata": {},
   "source": [
    "<img src=\"img/basic.gif\" width=\"520\" align=\"left\"><br><br><br><br><br><br><br><br>"
   ]
  },
  {
   "cell_type": "markdown",
   "id": "331290fa",
   "metadata": {},
   "source": [
    "## cube"
   ]
  },
  {
   "cell_type": "markdown",
   "id": "d2c3fc1d",
   "metadata": {},
   "source": [
    "<img src=\"img/cube.png\" width=\"256\" align=\"left\"><br><br><br><br><br><br><br><br>"
   ]
  },
  {
   "cell_type": "markdown",
   "id": "168085be",
   "metadata": {},
   "source": [
    "## globe"
   ]
  },
  {
   "cell_type": "markdown",
   "id": "1f658afa",
   "metadata": {},
   "source": [
    "Interactive globe with mouse"
   ]
  },
  {
   "cell_type": "markdown",
   "id": "eac1a817",
   "metadata": {},
   "source": [
    "<img src=\"img/globe.gif\" width=\"256\" align=\"left\"><br><br><br><br><br><br><br><br>"
   ]
  },
  {
   "cell_type": "markdown",
   "id": "ff8e959a",
   "metadata": {},
   "source": [
    "## sky"
   ]
  },
  {
   "cell_type": "markdown",
   "id": "4215f8d1",
   "metadata": {},
   "source": [
    "A simple skybox  \n",
    "\n",
    "I learned many things from *How to Create a Skybox with Three.js*\n",
    "https://codinhood.com/post/create-skybox-with-threejs @codinhood\n",
    "\n",
    "Thanks for the textures to https://opengameart.org/content/space-nebulas-skybox"
   ]
  },
  {
   "cell_type": "markdown",
   "id": "4b34fcad",
   "metadata": {},
   "source": [
    "<img src=\"img/sky.gif\" width=\"256\" align=\"left\"><br><br><br><br><br><br><br><br>"
   ]
  },
  {
   "cell_type": "code",
   "execution_count": null,
   "id": "6dcd0567",
   "metadata": {},
   "outputs": [],
   "source": []
  }
 ],
 "metadata": {
  "kernelspec": {
   "display_name": "Rust",
   "language": "rust",
   "name": "rust"
  },
  "language_info": {
   "codemirror_mode": "rust",
   "file_extension": ".rs",
   "mimetype": "text/rust",
   "name": "Rust",
   "pygment_lexer": "rust",
   "version": ""
  }
 },
 "nbformat": 4,
 "nbformat_minor": 5
}
